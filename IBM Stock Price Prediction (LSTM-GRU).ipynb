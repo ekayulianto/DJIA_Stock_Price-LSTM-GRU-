{
 "cells": [
  {
   "cell_type": "markdown",
   "metadata": {},
   "source": [
    "# Import Module"
   ]
  },
  {
   "cell_type": "code",
   "execution_count": 1,
   "metadata": {},
   "outputs": [
    {
     "name": "stderr",
     "output_type": "stream",
     "text": [
      "Using TensorFlow backend.\n"
     ]
    }
   ],
   "source": [
    "import numpy as np\n",
    "import matplotlib.pyplot as plt\n",
    "plt.style.use('fivethirtyeight')\n",
    "import pandas as pd\n",
    "\n",
    "from sklearn.preprocessing import MinMaxScaler\n",
    "from keras.models import Sequential\n",
    "from keras.layers import Dense, LSTM, Dropout, GRU, Bidirectional\n",
    "from keras.optimizers import SGD\n",
    "import math\n",
    "from sklearn.metrics import mean_squared_error"
   ]
  },
  {
   "cell_type": "markdown",
   "metadata": {},
   "source": [
    "# Import Data (IBM Stock price selama 11 tahun)"
   ]
  },
  {
   "cell_type": "code",
   "execution_count": 2,
   "metadata": {},
   "outputs": [
    {
     "data": {
      "text/html": [
       "<div>\n",
       "<style scoped>\n",
       "    .dataframe tbody tr th:only-of-type {\n",
       "        vertical-align: middle;\n",
       "    }\n",
       "\n",
       "    .dataframe tbody tr th {\n",
       "        vertical-align: top;\n",
       "    }\n",
       "\n",
       "    .dataframe thead th {\n",
       "        text-align: right;\n",
       "    }\n",
       "</style>\n",
       "<table border=\"1\" class=\"dataframe\">\n",
       "  <thead>\n",
       "    <tr style=\"text-align: right;\">\n",
       "      <th></th>\n",
       "      <th>Open</th>\n",
       "      <th>High</th>\n",
       "      <th>Low</th>\n",
       "      <th>Close</th>\n",
       "      <th>Volume</th>\n",
       "      <th>Name</th>\n",
       "    </tr>\n",
       "    <tr>\n",
       "      <th>Date</th>\n",
       "      <th></th>\n",
       "      <th></th>\n",
       "      <th></th>\n",
       "      <th></th>\n",
       "      <th></th>\n",
       "      <th></th>\n",
       "    </tr>\n",
       "  </thead>\n",
       "  <tbody>\n",
       "    <tr>\n",
       "      <th>2017-12-22</th>\n",
       "      <td>151.82</td>\n",
       "      <td>153.00</td>\n",
       "      <td>151.50</td>\n",
       "      <td>152.50</td>\n",
       "      <td>2990583</td>\n",
       "      <td>IBM</td>\n",
       "    </tr>\n",
       "    <tr>\n",
       "      <th>2017-12-26</th>\n",
       "      <td>152.51</td>\n",
       "      <td>153.86</td>\n",
       "      <td>152.50</td>\n",
       "      <td>152.83</td>\n",
       "      <td>2479017</td>\n",
       "      <td>IBM</td>\n",
       "    </tr>\n",
       "    <tr>\n",
       "      <th>2017-12-27</th>\n",
       "      <td>152.95</td>\n",
       "      <td>153.18</td>\n",
       "      <td>152.61</td>\n",
       "      <td>153.13</td>\n",
       "      <td>2149257</td>\n",
       "      <td>IBM</td>\n",
       "    </tr>\n",
       "    <tr>\n",
       "      <th>2017-12-28</th>\n",
       "      <td>153.20</td>\n",
       "      <td>154.12</td>\n",
       "      <td>153.20</td>\n",
       "      <td>154.04</td>\n",
       "      <td>2687624</td>\n",
       "      <td>IBM</td>\n",
       "    </tr>\n",
       "    <tr>\n",
       "      <th>2017-12-29</th>\n",
       "      <td>154.17</td>\n",
       "      <td>154.72</td>\n",
       "      <td>153.42</td>\n",
       "      <td>153.42</td>\n",
       "      <td>3327087</td>\n",
       "      <td>IBM</td>\n",
       "    </tr>\n",
       "  </tbody>\n",
       "</table>\n",
       "</div>"
      ],
      "text/plain": [
       "              Open    High     Low   Close   Volume Name\n",
       "Date                                                    \n",
       "2017-12-22  151.82  153.00  151.50  152.50  2990583  IBM\n",
       "2017-12-26  152.51  153.86  152.50  152.83  2479017  IBM\n",
       "2017-12-27  152.95  153.18  152.61  153.13  2149257  IBM\n",
       "2017-12-28  153.20  154.12  153.20  154.04  2687624  IBM\n",
       "2017-12-29  154.17  154.72  153.42  153.42  3327087  IBM"
      ]
     },
     "execution_count": 2,
     "metadata": {},
     "output_type": "execute_result"
    }
   ],
   "source": [
    "# dateparse = lambda x:pd.datetime.strptime(x, '%m/%d/%y')\n",
    "\n",
    "dataset = pd.read_csv('IBM_2006-01-01_to_2018-01-01.csv', parse_dates = ['Date'], index_col = ['Date'])\n",
    "dataset.tail()"
   ]
  },
  {
   "cell_type": "code",
   "execution_count": 3,
   "metadata": {},
   "outputs": [
    {
     "data": {
      "text/html": [
       "<div>\n",
       "<style scoped>\n",
       "    .dataframe tbody tr th:only-of-type {\n",
       "        vertical-align: middle;\n",
       "    }\n",
       "\n",
       "    .dataframe tbody tr th {\n",
       "        vertical-align: top;\n",
       "    }\n",
       "\n",
       "    .dataframe thead th {\n",
       "        text-align: right;\n",
       "    }\n",
       "</style>\n",
       "<table border=\"1\" class=\"dataframe\">\n",
       "  <thead>\n",
       "    <tr style=\"text-align: right;\">\n",
       "      <th></th>\n",
       "      <th>Open</th>\n",
       "      <th>High</th>\n",
       "      <th>Low</th>\n",
       "      <th>Close</th>\n",
       "      <th>Volume</th>\n",
       "      <th>Name</th>\n",
       "    </tr>\n",
       "    <tr>\n",
       "      <th>Date</th>\n",
       "      <th></th>\n",
       "      <th></th>\n",
       "      <th></th>\n",
       "      <th></th>\n",
       "      <th></th>\n",
       "      <th></th>\n",
       "    </tr>\n",
       "  </thead>\n",
       "  <tbody>\n",
       "    <tr>\n",
       "      <th>2006-01-03</th>\n",
       "      <td>82.45</td>\n",
       "      <td>82.55</td>\n",
       "      <td>80.81</td>\n",
       "      <td>82.06</td>\n",
       "      <td>11715200</td>\n",
       "      <td>IBM</td>\n",
       "    </tr>\n",
       "    <tr>\n",
       "      <th>2006-01-04</th>\n",
       "      <td>82.20</td>\n",
       "      <td>82.50</td>\n",
       "      <td>81.33</td>\n",
       "      <td>81.95</td>\n",
       "      <td>9840600</td>\n",
       "      <td>IBM</td>\n",
       "    </tr>\n",
       "    <tr>\n",
       "      <th>2006-01-05</th>\n",
       "      <td>81.40</td>\n",
       "      <td>82.90</td>\n",
       "      <td>81.00</td>\n",
       "      <td>82.50</td>\n",
       "      <td>7213500</td>\n",
       "      <td>IBM</td>\n",
       "    </tr>\n",
       "    <tr>\n",
       "      <th>2006-01-06</th>\n",
       "      <td>83.95</td>\n",
       "      <td>85.03</td>\n",
       "      <td>83.41</td>\n",
       "      <td>84.95</td>\n",
       "      <td>8197400</td>\n",
       "      <td>IBM</td>\n",
       "    </tr>\n",
       "    <tr>\n",
       "      <th>2006-01-09</th>\n",
       "      <td>84.10</td>\n",
       "      <td>84.25</td>\n",
       "      <td>83.38</td>\n",
       "      <td>83.73</td>\n",
       "      <td>6858200</td>\n",
       "      <td>IBM</td>\n",
       "    </tr>\n",
       "  </tbody>\n",
       "</table>\n",
       "</div>"
      ],
      "text/plain": [
       "             Open   High    Low  Close    Volume Name\n",
       "Date                                                 \n",
       "2006-01-03  82.45  82.55  80.81  82.06  11715200  IBM\n",
       "2006-01-04  82.20  82.50  81.33  81.95   9840600  IBM\n",
       "2006-01-05  81.40  82.90  81.00  82.50   7213500  IBM\n",
       "2006-01-06  83.95  85.03  83.41  84.95   8197400  IBM\n",
       "2006-01-09  84.10  84.25  83.38  83.73   6858200  IBM"
      ]
     },
     "execution_count": 3,
     "metadata": {},
     "output_type": "execute_result"
    }
   ],
   "source": [
    "dataset.head()"
   ]
  },
  {
   "cell_type": "code",
   "execution_count": 4,
   "metadata": {},
   "outputs": [
    {
     "data": {
      "text/plain": [
       "DatetimeIndex(['2006-01-03', '2006-01-04', '2006-01-05', '2006-01-06',\n",
       "               '2006-01-09', '2006-01-10', '2006-01-11', '2006-01-12',\n",
       "               '2006-01-13', '2006-01-17',\n",
       "               ...\n",
       "               '2017-12-15', '2017-12-18', '2017-12-19', '2017-12-20',\n",
       "               '2017-12-21', '2017-12-22', '2017-12-26', '2017-12-27',\n",
       "               '2017-12-28', '2017-12-29'],\n",
       "              dtype='datetime64[ns]', name='Date', length=3020, freq=None)"
      ]
     },
     "execution_count": 4,
     "metadata": {},
     "output_type": "execute_result"
    }
   ],
   "source": [
    "dataset.index"
   ]
  },
  {
   "cell_type": "markdown",
   "metadata": {},
   "source": [
    "## Check Missing Value"
   ]
  },
  {
   "cell_type": "code",
   "execution_count": 5,
   "metadata": {},
   "outputs": [
    {
     "data": {
      "text/plain": [
       "Open      1\n",
       "High      0\n",
       "Low       1\n",
       "Close     0\n",
       "Volume    0\n",
       "Name      0\n",
       "dtype: int64"
      ]
     },
     "execution_count": 5,
     "metadata": {},
     "output_type": "execute_result"
    }
   ],
   "source": [
    "dataset.isnull().sum()"
   ]
  },
  {
   "cell_type": "markdown",
   "metadata": {},
   "source": [
    "## Separate data into training set and testing set"
   ]
  },
  {
   "cell_type": "code",
   "execution_count": 6,
   "metadata": {},
   "outputs": [],
   "source": [
    "# Membagi data menjadi data training (2006 s/d end of 2016 years), dan testing (2017-end) dan diubah menjad numpy. Dan hanya digunakan yang nilai 'High' saja\n",
    "\n",
    "training_set = dataset[:'2016'].iloc[:, 1:2].values\n",
    "test_set = dataset['2017':].iloc[:,1:2].values"
   ]
  },
  {
   "cell_type": "code",
   "execution_count": 7,
   "metadata": {},
   "outputs": [
    {
     "data": {
      "text/html": [
       "<div>\n",
       "<style scoped>\n",
       "    .dataframe tbody tr th:only-of-type {\n",
       "        vertical-align: middle;\n",
       "    }\n",
       "\n",
       "    .dataframe tbody tr th {\n",
       "        vertical-align: top;\n",
       "    }\n",
       "\n",
       "    .dataframe thead th {\n",
       "        text-align: right;\n",
       "    }\n",
       "</style>\n",
       "<table border=\"1\" class=\"dataframe\">\n",
       "  <thead>\n",
       "    <tr style=\"text-align: right;\">\n",
       "      <th></th>\n",
       "      <th>High</th>\n",
       "    </tr>\n",
       "    <tr>\n",
       "      <th>Date</th>\n",
       "      <th></th>\n",
       "    </tr>\n",
       "  </thead>\n",
       "  <tbody>\n",
       "    <tr>\n",
       "      <th>2017-01-03</th>\n",
       "      <td>167.87</td>\n",
       "    </tr>\n",
       "    <tr>\n",
       "      <th>2017-01-04</th>\n",
       "      <td>169.87</td>\n",
       "    </tr>\n",
       "    <tr>\n",
       "      <th>2017-01-05</th>\n",
       "      <td>169.39</td>\n",
       "    </tr>\n",
       "    <tr>\n",
       "      <th>2017-01-06</th>\n",
       "      <td>169.92</td>\n",
       "    </tr>\n",
       "    <tr>\n",
       "      <th>2017-01-09</th>\n",
       "      <td>169.80</td>\n",
       "    </tr>\n",
       "    <tr>\n",
       "      <th>...</th>\n",
       "      <td>...</td>\n",
       "    </tr>\n",
       "    <tr>\n",
       "      <th>2017-12-22</th>\n",
       "      <td>153.00</td>\n",
       "    </tr>\n",
       "    <tr>\n",
       "      <th>2017-12-26</th>\n",
       "      <td>153.86</td>\n",
       "    </tr>\n",
       "    <tr>\n",
       "      <th>2017-12-27</th>\n",
       "      <td>153.18</td>\n",
       "    </tr>\n",
       "    <tr>\n",
       "      <th>2017-12-28</th>\n",
       "      <td>154.12</td>\n",
       "    </tr>\n",
       "    <tr>\n",
       "      <th>2017-12-29</th>\n",
       "      <td>154.72</td>\n",
       "    </tr>\n",
       "  </tbody>\n",
       "</table>\n",
       "<p>251 rows × 1 columns</p>\n",
       "</div>"
      ],
      "text/plain": [
       "              High\n",
       "Date              \n",
       "2017-01-03  167.87\n",
       "2017-01-04  169.87\n",
       "2017-01-05  169.39\n",
       "2017-01-06  169.92\n",
       "2017-01-09  169.80\n",
       "...            ...\n",
       "2017-12-22  153.00\n",
       "2017-12-26  153.86\n",
       "2017-12-27  153.18\n",
       "2017-12-28  154.12\n",
       "2017-12-29  154.72\n",
       "\n",
       "[251 rows x 1 columns]"
      ]
     },
     "execution_count": 7,
     "metadata": {},
     "output_type": "execute_result"
    }
   ],
   "source": [
    "dataset['2017':].iloc[:,1:2]"
   ]
  },
  {
   "cell_type": "code",
   "execution_count": 8,
   "metadata": {},
   "outputs": [
    {
     "data": {
      "image/png": "[encoded data removed]",
      "text/plain": [
       "<Figure size 1080x360 with 1 Axes>"
      ]
     },
     "metadata": {
      "needs_background": "light"
     },
     "output_type": "display_data"
    }
   ],
   "source": [
    "## Data Plot\n",
    "dataset.High[:'2016'].plot(figsize=(15,5), legend=True)\n",
    "dataset.High['2017':].plot(figsize=(15,5), legend=True)\n",
    "plt.legend(['Training Data(2006-2017)', 'Testing Data(2017-End)'])\n",
    "plt.title('IBM Stock Price')\n",
    "plt.show()"
   ]
  },
  {
   "cell_type": "markdown",
   "metadata": {},
   "source": [
    "## Scaling train data"
   ]
  },
  {
   "cell_type": "code",
   "execution_count": 9,
   "metadata": {},
   "outputs": [],
   "source": [
    "sc = MinMaxScaler()\n",
    "training_set_scaled = sc.fit_transform(training_set)"
   ]
  },
  {
   "cell_type": "markdown",
   "metadata": {},
   "source": [
    "## Create Structure of Data"
   ]
  },
  {
   "cell_type": "code",
   "execution_count": 10,
   "metadata": {},
   "outputs": [
    {
     "data": {
      "text/plain": [
       "2769"
      ]
     },
     "execution_count": 10,
     "metadata": {},
     "output_type": "execute_result"
    }
   ],
   "source": [
    "len(training_set)"
   ]
  },
  {
   "cell_type": "code",
   "execution_count": 11,
   "metadata": {},
   "outputs": [],
   "source": [
    "# timestamp = 60\n",
    "\n",
    "timestamp = 60\n",
    "X_train = []\n",
    "y_train = []\n",
    "for i in range (timestamp, len(training_set)):\n",
    "    X_train.append(training_set_scaled[i-timestamp:i, 0])\n",
    "    y_train.append(training_set_scaled[i, 0])\n",
    "X_train, y_train = np.array(X_train), np.array(y_train)"
   ]
  },
  {
   "cell_type": "markdown",
   "metadata": {},
   "source": [
    "## Reshaping Data into 3D"
   ]
  },
  {
   "cell_type": "code",
   "execution_count": 12,
   "metadata": {},
   "outputs": [],
   "source": [
    "X_train = np.reshape(X_train, (X_train.shape[0], X_train.shape[1], 1))"
   ]
  },
  {
   "cell_type": "markdown",
   "metadata": {},
   "source": [
    "## Build Model"
   ]
  },
  {
   "cell_type": "markdown",
   "metadata": {},
   "source": [
    " ### LSTM Architecture"
   ]
  },
  {
   "cell_type": "code",
   "execution_count": 13,
   "metadata": {},
   "outputs": [],
   "source": [
    "regressor = Sequential()\n",
    "\n",
    "# 1st LSTM Layer\n",
    "regressor.add(LSTM(units=50, return_sequences = True, input_shape = (X_train.shape[1], 1)))\n",
    "regressor.add(Dropout(0.2))\n",
    "\n",
    "# 2nd LSTM Layer\n",
    "regressor.add(LSTM(units=50, return_sequences = True))\n",
    "regressor.add(Dropout(0.2))\n",
    "\n",
    "# 3rd LSTM layer\n",
    "regressor.add(LSTM(units=50, return_sequences = True))\n",
    "regressor.add(Dropout(0.2))\n",
    "\n",
    "# 4th LSTM Layer\n",
    "regressor.add(LSTM(units=50, return_sequences = False))\n",
    "regressor.add(Dropout(0.2))\n",
    "\n",
    "# Output Lyaer\n",
    "regressor.add(Dense(units=1))"
   ]
  },
  {
   "cell_type": "markdown",
   "metadata": {},
   "source": [
    "### Compiling and Fitting Model"
   ]
  },
  {
   "cell_type": "code",
   "execution_count": 14,
   "metadata": {
    "scrolled": true
   },
   "outputs": [
    {
     "name": "stdout",
     "output_type": "stream",
     "text": [
      "Epoch 1/50\n",
      "2709/2709 [==============================] - 9s 3ms/step - loss: 0.0249\n",
      "Epoch 2/50\n",
      "2709/2709 [==============================] - 8s 3ms/step - loss: 0.0115\n",
      "Epoch 3/50\n",
      "2709/2709 [==============================] - 8s 3ms/step - loss: 0.0080\n",
      "Epoch 4/50\n",
      "2709/2709 [==============================] - 9s 3ms/step - loss: 0.0071\n",
      "Epoch 5/50\n",
      "2709/2709 [==============================] - 9s 3ms/step - loss: 0.0058\n",
      "Epoch 6/50\n",
      "2709/2709 [==============================] - 9s 3ms/step - loss: 0.0051\n",
      "Epoch 7/50\n",
      "2709/2709 [==============================] - 9s 3ms/step - loss: 0.0050\n",
      "Epoch 8/50\n",
      "2709/2709 [==============================] - 10s 4ms/step - loss: 0.0044\n",
      "Epoch 9/50\n",
      "2709/2709 [==============================] - 10s 4ms/step - loss: 0.0044\n",
      "Epoch 10/50\n",
      "2709/2709 [==============================] - 10s 4ms/step - loss: 0.0042\n",
      "Epoch 11/50\n",
      "2709/2709 [==============================] - 10s 4ms/step - loss: 0.0037\n",
      "Epoch 12/50\n",
      "2709/2709 [==============================] - 10s 4ms/step - loss: 0.0033\n",
      "Epoch 13/50\n",
      "2709/2709 [==============================] - 9s 3ms/step - loss: 0.0034\n",
      "Epoch 14/50\n",
      "2709/2709 [==============================] - 9s 3ms/step - loss: 0.0032\n",
      "Epoch 15/50\n",
      "2709/2709 [==============================] - 9s 3ms/step - loss: 0.0032\n",
      "Epoch 16/50\n",
      "2709/2709 [==============================] - 9s 3ms/step - loss: 0.0029\n",
      "Epoch 17/50\n",
      "2709/2709 [==============================] - 9s 3ms/step - loss: 0.0029\n",
      "Epoch 18/50\n",
      "2709/2709 [==============================] - 9s 3ms/step - loss: 0.0028\n",
      "Epoch 19/50\n",
      "2709/2709 [==============================] - 9s 3ms/step - loss: 0.0026\n",
      "Epoch 20/50\n",
      "2709/2709 [==============================] - 9s 4ms/step - loss: 0.0025\n",
      "Epoch 21/50\n",
      "2709/2709 [==============================] - 9s 3ms/step - loss: 0.0025\n",
      "Epoch 22/50\n",
      "2709/2709 [==============================] - 9s 3ms/step - loss: 0.0023\n",
      "Epoch 23/50\n",
      "2709/2709 [==============================] - 9s 3ms/step - loss: 0.0022\n",
      "Epoch 24/50\n",
      "2709/2709 [==============================] - 10s 4ms/step - loss: 0.0022\n",
      "Epoch 25/50\n",
      "2709/2709 [==============================] - 9s 3ms/step - loss: 0.0022\n",
      "Epoch 26/50\n",
      "2709/2709 [==============================] - 9s 3ms/step - loss: 0.0022\n",
      "Epoch 27/50\n",
      "2709/2709 [==============================] - 9s 3ms/step - loss: 0.0021\n",
      "Epoch 28/50\n",
      "2709/2709 [==============================] - 9s 3ms/step - loss: 0.0021\n",
      "Epoch 29/50\n",
      "2709/2709 [==============================] - 10s 4ms/step - loss: 0.0019\n",
      "Epoch 30/50\n",
      "2709/2709 [==============================] - 12s 4ms/step - loss: 0.0020\n",
      "Epoch 31/50\n",
      "2709/2709 [==============================] - 11s 4ms/step - loss: 0.0019\n",
      "Epoch 32/50\n",
      "2709/2709 [==============================] - 10s 4ms/step - loss: 0.0018\n",
      "Epoch 33/50\n",
      "2709/2709 [==============================] - 10s 4ms/step - loss: 0.0018\n",
      "Epoch 34/50\n",
      "2709/2709 [==============================] - 9s 3ms/step - loss: 0.0018\n",
      "Epoch 35/50\n",
      "2709/2709 [==============================] - 9s 3ms/step - loss: 0.0018\n",
      "Epoch 36/50\n",
      "2709/2709 [==============================] - 9s 3ms/step - loss: 0.0018\n",
      "Epoch 37/50\n",
      "2709/2709 [==============================] - 10s 4ms/step - loss: 0.0017\n",
      "Epoch 38/50\n",
      "2709/2709 [==============================] - 10s 4ms/step - loss: 0.0017\n",
      "Epoch 39/50\n",
      "2709/2709 [==============================] - 9s 3ms/step - loss: 0.0015\n",
      "Epoch 40/50\n",
      "2709/2709 [==============================] - 9s 3ms/step - loss: 0.0016\n",
      "Epoch 41/50\n",
      "2709/2709 [==============================] - 9s 3ms/step - loss: 0.0017\n",
      "Epoch 42/50\n",
      "2709/2709 [==============================] - 10s 4ms/step - loss: 0.0015\n",
      "Epoch 43/50\n",
      "2709/2709 [==============================] - 10s 4ms/step - loss: 0.0016\n",
      "Epoch 44/50\n",
      "2709/2709 [==============================] - 9s 3ms/step - loss: 0.0015\n",
      "Epoch 45/50\n",
      "2709/2709 [==============================] - 10s 4ms/step - loss: 0.0014\n",
      "Epoch 46/50\n",
      "2709/2709 [==============================] - 10s 4ms/step - loss: 0.0016\n",
      "Epoch 47/50\n",
      "2709/2709 [==============================] - 9s 3ms/step - loss: 0.0015\n",
      "Epoch 48/50\n",
      "2709/2709 [==============================] - 10s 4ms/step - loss: 0.0014\n",
      "Epoch 49/50\n",
      "2709/2709 [==============================] - 9s 4ms/step - loss: 0.0014\n",
      "Epoch 50/50\n",
      "2709/2709 [==============================] - 9s 3ms/step - loss: 0.0014\n"
     ]
    },
    {
     "data": {
      "text/plain": [
       "<keras.callbacks.callbacks.History at 0x21556163408>"
      ]
     },
     "execution_count": 14,
     "metadata": {},
     "output_type": "execute_result"
    }
   ],
   "source": [
    "regressor.compile(optimizer = 'rmsprop', loss = 'mean_squared_error')      ## loss untuk regression (mean squared error)\n",
    "regressor.fit(X_train, y_train, epochs=50, batch_size=32)"
   ]
  },
  {
   "cell_type": "markdown",
   "metadata": {},
   "source": [
    "## Prediction"
   ]
  },
  {
   "cell_type": "code",
   "execution_count": 15,
   "metadata": {},
   "outputs": [
    {
     "name": "stdout",
     "output_type": "stream",
     "text": [
      "<class 'pandas.core.frame.DataFrame'>\n",
      "DatetimeIndex: 3020 entries, 2006-01-03 to 2017-12-29\n",
      "Data columns (total 6 columns):\n",
      " #   Column  Non-Null Count  Dtype  \n",
      "---  ------  --------------  -----  \n",
      " 0   Open    3019 non-null   float64\n",
      " 1   High    3020 non-null   float64\n",
      " 2   Low     3019 non-null   float64\n",
      " 3   Close   3020 non-null   float64\n",
      " 4   Volume  3020 non-null   int64  \n",
      " 5   Name    3020 non-null   object \n",
      "dtypes: float64(4), int64(1), object(1)\n",
      "memory usage: 245.2+ KB\n"
     ]
    }
   ],
   "source": [
    "dataset.info()"
   ]
  },
  {
   "cell_type": "code",
   "execution_count": 18,
   "metadata": {},
   "outputs": [
    {
     "data": {
      "text/html": [
       "<div>\n",
       "<style scoped>\n",
       "    .dataframe tbody tr th:only-of-type {\n",
       "        vertical-align: middle;\n",
       "    }\n",
       "\n",
       "    .dataframe tbody tr th {\n",
       "        vertical-align: top;\n",
       "    }\n",
       "\n",
       "    .dataframe thead th {\n",
       "        text-align: right;\n",
       "    }\n",
       "</style>\n",
       "<table border=\"1\" class=\"dataframe\">\n",
       "  <thead>\n",
       "    <tr style=\"text-align: right;\">\n",
       "      <th></th>\n",
       "      <th>High</th>\n",
       "    </tr>\n",
       "    <tr>\n",
       "      <th>Date</th>\n",
       "      <th></th>\n",
       "    </tr>\n",
       "  </thead>\n",
       "  <tbody>\n",
       "    <tr>\n",
       "      <th>2006-01-03</th>\n",
       "      <td>82.55</td>\n",
       "    </tr>\n",
       "    <tr>\n",
       "      <th>2006-01-04</th>\n",
       "      <td>82.50</td>\n",
       "    </tr>\n",
       "    <tr>\n",
       "      <th>2006-01-05</th>\n",
       "      <td>82.90</td>\n",
       "    </tr>\n",
       "    <tr>\n",
       "      <th>2006-01-06</th>\n",
       "      <td>85.03</td>\n",
       "    </tr>\n",
       "    <tr>\n",
       "      <th>2006-01-09</th>\n",
       "      <td>84.25</td>\n",
       "    </tr>\n",
       "    <tr>\n",
       "      <th>...</th>\n",
       "      <td>...</td>\n",
       "    </tr>\n",
       "    <tr>\n",
       "      <th>2016-12-23</th>\n",
       "      <td>167.49</td>\n",
       "    </tr>\n",
       "    <tr>\n",
       "      <th>2016-12-27</th>\n",
       "      <td>167.98</td>\n",
       "    </tr>\n",
       "    <tr>\n",
       "      <th>2016-12-28</th>\n",
       "      <td>167.74</td>\n",
       "    </tr>\n",
       "    <tr>\n",
       "      <th>2016-12-29</th>\n",
       "      <td>166.99</td>\n",
       "    </tr>\n",
       "    <tr>\n",
       "      <th>2016-12-30</th>\n",
       "      <td>166.70</td>\n",
       "    </tr>\n",
       "  </tbody>\n",
       "</table>\n",
       "<p>2769 rows × 1 columns</p>\n",
       "</div>"
      ],
      "text/plain": [
       "              High\n",
       "Date              \n",
       "2006-01-03   82.55\n",
       "2006-01-04   82.50\n",
       "2006-01-05   82.90\n",
       "2006-01-06   85.03\n",
       "2006-01-09   84.25\n",
       "...            ...\n",
       "2016-12-23  167.49\n",
       "2016-12-27  167.98\n",
       "2016-12-28  167.74\n",
       "2016-12-29  166.99\n",
       "2016-12-30  166.70\n",
       "\n",
       "[2769 rows x 1 columns]"
      ]
     },
     "execution_count": 18,
     "metadata": {},
     "output_type": "execute_result"
    }
   ],
   "source": [
    "dataset[:'2016'].iloc[:, 1:2]"
   ]
  },
  {
   "cell_type": "code",
   "execution_count": 19,
   "metadata": {},
   "outputs": [
    {
     "name": "stdout",
     "output_type": "stream",
     "text": [
      "2769\n",
      "251\n",
      "3020\n"
     ]
    }
   ],
   "source": [
    "## Concat both data of training set and testing set dari data original\n",
    "\n",
    "dataset_total = pd.concat((dataset[:'2016'].iloc[:, 1:2],dataset['2017':].iloc[:, 1:2]),axis=0)\n",
    "print(len(dataset_total['High'][:'2016']))\n",
    "print(len(dataset_total['High']['2017':]))\n",
    "print(len(dataset_total))"
   ]
  },
  {
   "cell_type": "code",
   "execution_count": 21,
   "metadata": {},
   "outputs": [
    {
     "data": {
      "text/html": [
       "<div>\n",
       "<style scoped>\n",
       "    .dataframe tbody tr th:only-of-type {\n",
       "        vertical-align: middle;\n",
       "    }\n",
       "\n",
       "    .dataframe tbody tr th {\n",
       "        vertical-align: top;\n",
       "    }\n",
       "\n",
       "    .dataframe thead th {\n",
       "        text-align: right;\n",
       "    }\n",
       "</style>\n",
       "<table border=\"1\" class=\"dataframe\">\n",
       "  <thead>\n",
       "    <tr style=\"text-align: right;\">\n",
       "      <th></th>\n",
       "      <th>High</th>\n",
       "    </tr>\n",
       "    <tr>\n",
       "      <th>Date</th>\n",
       "      <th></th>\n",
       "    </tr>\n",
       "  </thead>\n",
       "  <tbody>\n",
       "    <tr>\n",
       "      <th>2006-01-03</th>\n",
       "      <td>82.55</td>\n",
       "    </tr>\n",
       "    <tr>\n",
       "      <th>2006-01-04</th>\n",
       "      <td>82.50</td>\n",
       "    </tr>\n",
       "    <tr>\n",
       "      <th>2006-01-05</th>\n",
       "      <td>82.90</td>\n",
       "    </tr>\n",
       "    <tr>\n",
       "      <th>2006-01-06</th>\n",
       "      <td>85.03</td>\n",
       "    </tr>\n",
       "    <tr>\n",
       "      <th>2006-01-09</th>\n",
       "      <td>84.25</td>\n",
       "    </tr>\n",
       "  </tbody>\n",
       "</table>\n",
       "</div>"
      ],
      "text/plain": [
       "             High\n",
       "Date             \n",
       "2006-01-03  82.55\n",
       "2006-01-04  82.50\n",
       "2006-01-05  82.90\n",
       "2006-01-06  85.03\n",
       "2006-01-09  84.25"
      ]
     },
     "execution_count": 21,
     "metadata": {},
     "output_type": "execute_result"
    }
   ],
   "source": [
    "dataset_total.head()"
   ]
  },
  {
   "cell_type": "code",
   "execution_count": 22,
   "metadata": {},
   "outputs": [],
   "source": [
    "# Create inputs for predicting\n",
    "inputs = dataset_total[len(dataset_total)-len(test_set) - 60:].values\n",
    "inputs = inputs.reshape(-1,1)                                            # reshape input menjadi 1 kebawah (1 'kolom')\n",
    "inputs = sc.transform(inputs)                                            # scaling"
   ]
  },
  {
   "cell_type": "code",
   "execution_count": 25,
   "metadata": {},
   "outputs": [
    {
     "data": {
      "text/plain": [
       "311"
      ]
     },
     "execution_count": 25,
     "metadata": {},
     "output_type": "execute_result"
    }
   ],
   "source": [
    "len(test_set)+timestamp"
   ]
  },
  {
   "cell_type": "code",
   "execution_count": 27,
   "metadata": {},
   "outputs": [],
   "source": [
    "## Predict\n",
    "X_test = []\n",
    "for i in range (timestamp, len(test_set)+timestamp):                                     ## start dari 60 sebelum 3rd january, dan 80(60+20) 20nya yaitu jumlah data pada test set\n",
    "    X_test.append(inputs[i-timestamp:i, 0])                        ## X_test inputnya pada index ke 60 (3rd january)\n",
    "\n",
    "X_test = np.array(X_test)                                         ## mengubahnya kedalam np array\n",
    "X_test = np.reshape(X_test, (X_test.shape[0],X_test.shape[1],1))  ## reshape into 3D\n",
    "predicted_stok_price = regressor.predict(X_test)\n",
    "predicted_stok_price = sc.inverse_transform(predicted_stok_price)"
   ]
  },
  {
   "cell_type": "code",
   "execution_count": 32,
   "metadata": {},
   "outputs": [
    {
     "data": {
      "image/png": "[encoded data removed]",
      "text/plain": [
       "<Figure size 432x288 with 1 Axes>"
      ]
     },
     "metadata": {
      "needs_background": "light"
     },
     "output_type": "display_data"
    }
   ],
   "source": [
    "## Result\n",
    "\n",
    "def plot_prediksi(test,predicted):\n",
    "    plt.plot(test, color='red',label = 'IBM Stock Price')\n",
    "    plt.plot(predicted, color='blue',label='Predicted of IBM Stock Price')\n",
    "    plt.title('IBM Stock Price Prediction')\n",
    "    plt.xlabel('Time')\n",
    "    plt.ylabel('IBM Stock Price')\n",
    "    plt.legend()\n",
    "    plt.show()\n",
    "    \n",
    "\n",
    "plot_prediksi(test_set,predicted_stok_price)"
   ]
  },
  {
   "cell_type": "code",
   "execution_count": 35,
   "metadata": {},
   "outputs": [
    {
     "name": "stdout",
     "output_type": "stream",
     "text": [
      "RMSE : 4.057460951805423.\n"
     ]
    }
   ],
   "source": [
    "def hasil_rmse(test, predicted):\n",
    "    rmse = math.sqrt(mean_squared_error(test, predicted))\n",
    "    print(\"RMSE : {}.\".format(rmse))    \n",
    "    \n",
    "hasil_rmse(test_set,predicted_stok_price)"
   ]
  },
  {
   "cell_type": "markdown",
   "metadata": {},
   "source": [
    "# GRU LSTM"
   ]
  },
  {
   "cell_type": "code",
   "execution_count": 38,
   "metadata": {
    "scrolled": true
   },
   "outputs": [
    {
     "name": "stdout",
     "output_type": "stream",
     "text": [
      "Epoch 1/50\n",
      "2709/2709 [==============================] - 6s 2ms/step - loss: 0.1099\n",
      "Epoch 2/50\n",
      "2709/2709 [==============================] - 5s 2ms/step - loss: 0.0290\n",
      "Epoch 3/50\n",
      "2709/2709 [==============================] - 5s 2ms/step - loss: 0.0071\n",
      "Epoch 4/50\n",
      "2709/2709 [==============================] - 4s 2ms/step - loss: 0.0049\n",
      "Epoch 5/50\n",
      "2709/2709 [==============================] - 4s 2ms/step - loss: 0.0039\n",
      "Epoch 6/50\n",
      "2709/2709 [==============================] - 4s 2ms/step - loss: 0.0040\n",
      "Epoch 7/50\n",
      "2709/2709 [==============================] - 4s 2ms/step - loss: 0.0035\n",
      "Epoch 8/50\n",
      "2709/2709 [==============================] - 4s 2ms/step - loss: 0.0035\n",
      "Epoch 9/50\n",
      "2709/2709 [==============================] - 5s 2ms/step - loss: 0.0034\n",
      "Epoch 10/50\n",
      "2709/2709 [==============================] - 5s 2ms/step - loss: 0.0032\n",
      "Epoch 11/50\n",
      "2709/2709 [==============================] - 5s 2ms/step - loss: 0.0030\n",
      "Epoch 12/50\n",
      "2709/2709 [==============================] - 5s 2ms/step - loss: 0.0031\n",
      "Epoch 13/50\n",
      "2709/2709 [==============================] - 5s 2ms/step - loss: 0.0030\n",
      "Epoch 14/50\n",
      "2709/2709 [==============================] - 4s 2ms/step - loss: 0.0031\n",
      "Epoch 15/50\n",
      "2709/2709 [==============================] - 5s 2ms/step - loss: 0.0027\n",
      "Epoch 16/50\n",
      "2709/2709 [==============================] - 5s 2ms/step - loss: 0.0029\n",
      "Epoch 17/50\n",
      "2709/2709 [==============================] - 5s 2ms/step - loss: 0.0028\n",
      "Epoch 18/50\n",
      "2709/2709 [==============================] - 5s 2ms/step - loss: 0.0028\n",
      "Epoch 19/50\n",
      "2709/2709 [==============================] - 5s 2ms/step - loss: 0.0025\n",
      "Epoch 20/50\n",
      "2709/2709 [==============================] - 5s 2ms/step - loss: 0.0027\n",
      "Epoch 21/50\n",
      "2709/2709 [==============================] - 5s 2ms/step - loss: 0.0023\n",
      "Epoch 22/50\n",
      "2709/2709 [==============================] - 5s 2ms/step - loss: 0.0024\n",
      "Epoch 23/50\n",
      "2709/2709 [==============================] - 5s 2ms/step - loss: 0.0024\n",
      "Epoch 24/50\n",
      "2709/2709 [==============================] - 4s 2ms/step - loss: 0.0024\n",
      "Epoch 25/50\n",
      "2709/2709 [==============================] - 5s 2ms/step - loss: 0.0025\n",
      "Epoch 26/50\n",
      "2709/2709 [==============================] - 5s 2ms/step - loss: 0.0024\n",
      "Epoch 27/50\n",
      "2709/2709 [==============================] - 5s 2ms/step - loss: 0.0024\n",
      "Epoch 28/50\n",
      "2709/2709 [==============================] - 5s 2ms/step - loss: 0.0024\n",
      "Epoch 29/50\n",
      "2709/2709 [==============================] - 5s 2ms/step - loss: 0.0022\n",
      "Epoch 30/50\n",
      "2709/2709 [==============================] - 6s 2ms/step - loss: 0.0022\n",
      "Epoch 31/50\n",
      "2709/2709 [==============================] - 5s 2ms/step - loss: 0.0021\n",
      "Epoch 32/50\n",
      "2709/2709 [==============================] - 5s 2ms/step - loss: 0.0021\n",
      "Epoch 33/50\n",
      "2709/2709 [==============================] - 5s 2ms/step - loss: 0.0022\n",
      "Epoch 34/50\n",
      "2709/2709 [==============================] - 5s 2ms/step - loss: 0.0022\n",
      "Epoch 35/50\n",
      "2709/2709 [==============================] - 5s 2ms/step - loss: 0.0022\n",
      "Epoch 36/50\n",
      "2709/2709 [==============================] - 5s 2ms/step - loss: 0.0022\n",
      "Epoch 37/50\n",
      "2709/2709 [==============================] - 5s 2ms/step - loss: 0.0022\n",
      "Epoch 38/50\n",
      "2709/2709 [==============================] - 5s 2ms/step - loss: 0.0021\n",
      "Epoch 39/50\n",
      "2709/2709 [==============================] - 5s 2ms/step - loss: 0.0022\n",
      "Epoch 40/50\n",
      "2709/2709 [==============================] - 5s 2ms/step - loss: 0.0020\n",
      "Epoch 41/50\n",
      "2709/2709 [==============================] - 5s 2ms/step - loss: 0.0020\n",
      "Epoch 42/50\n",
      "2709/2709 [==============================] - 5s 2ms/step - loss: 0.0021\n",
      "Epoch 43/50\n",
      "2709/2709 [==============================] - 5s 2ms/step - loss: 0.0021\n",
      "Epoch 44/50\n",
      "2709/2709 [==============================] - 5s 2ms/step - loss: 0.0021\n",
      "Epoch 45/50\n",
      "2709/2709 [==============================] - 5s 2ms/step - loss: 0.0021\n",
      "Epoch 46/50\n",
      "2709/2709 [==============================] - 5s 2ms/step - loss: 0.0020\n",
      "Epoch 47/50\n",
      "2709/2709 [==============================] - 5s 2ms/step - loss: 0.0019\n",
      "Epoch 48/50\n",
      "2709/2709 [==============================] - 5s 2ms/step - loss: 0.0019\n",
      "Epoch 49/50\n",
      "2709/2709 [==============================] - 5s 2ms/step - loss: 0.0020\n",
      "Epoch 50/50\n",
      "2709/2709 [==============================] - 5s 2ms/step - loss: 0.0020\n"
     ]
    },
    {
     "data": {
      "text/plain": [
       "<keras.callbacks.callbacks.History at 0x2155fce0588>"
      ]
     },
     "execution_count": 38,
     "metadata": {},
     "output_type": "execute_result"
    }
   ],
   "source": [
    "# The GRU architecture\n",
    "regressorGRU = Sequential()\n",
    "\n",
    "# 1st GRU layer with Dropout regularisation\n",
    "regressorGRU.add(GRU(units=50, return_sequences=True, input_shape=(X_train.shape[1],1), activation='tanh'))\n",
    "regressorGRU.add(Dropout(0.2))\n",
    "\n",
    "# 2nd GRU layer\n",
    "regressorGRU.add(GRU(units=50, return_sequences=True, input_shape=(X_train.shape[1],1), activation='tanh'))\n",
    "regressorGRU.add(Dropout(0.2))\n",
    "\n",
    "# 3rd GRU layer\n",
    "regressorGRU.add(GRU(units=50, return_sequences=True, input_shape=(X_train.shape[1],1), activation='tanh'))\n",
    "regressorGRU.add(Dropout(0.2))\n",
    "\n",
    "# 4th GRU layer\n",
    "regressorGRU.add(GRU(units=50, activation='tanh'))\n",
    "regressorGRU.add(Dropout(0.2))\n",
    "\n",
    "# The output layer\n",
    "regressorGRU.add(Dense(units=1))\n",
    "\n",
    "# Compiling the RNN\n",
    "regressorGRU.compile(optimizer=SGD(lr=0.01, decay=1e-7, momentum=0.9, nesterov=False),loss='mean_squared_error')\n",
    "\n",
    "# Fitting to the training set\n",
    "regressorGRU.fit(X_train,y_train,epochs=50,batch_size=150)"
   ]
  },
  {
   "cell_type": "markdown",
   "metadata": {},
   "source": [
    "## prediction"
   ]
  },
  {
   "cell_type": "code",
   "execution_count": 39,
   "metadata": {},
   "outputs": [],
   "source": [
    "X_test = []\n",
    "for i in range (timestamp, len(test_set)+timestamp):  \n",
    "    X_test.append(inputs[i-timestamp:i,0])\n",
    "    \n",
    "X_test = np.array(X_test)\n",
    "X_test = np.reshape(X_test, (X_test.shape[0],X_test.shape[1],1))\n",
    "\n",
    "GRU_predicted_stock_price = regressorGRU.predict(X_test)\n",
    "GRU_predicted_stock_price = sc.inverse_transform(GRU_predicted_stock_price)\n"
   ]
  },
  {
   "cell_type": "code",
   "execution_count": 41,
   "metadata": {},
   "outputs": [
    {
     "data": {
      "image/png": "[encoded data removed]",
      "text/plain": [
       "<Figure size 432x288 with 1 Axes>"
      ]
     },
     "metadata": {
      "needs_background": "light"
     },
     "output_type": "display_data"
    }
   ],
   "source": [
    "# Visualizing the results for GRU\n",
    "plot_prediksi(test_set,GRU_predicted_stock_price)"
   ]
  },
  {
   "cell_type": "code",
   "execution_count": 42,
   "metadata": {},
   "outputs": [
    {
     "name": "stdout",
     "output_type": "stream",
     "text": [
      "RMSE : 3.206497108377756.\n"
     ]
    }
   ],
   "source": [
    "# Evaluating GRU\n",
    "hasil_rmse(test_set,GRU_predicted_stock_price)"
   ]
  },
  {
   "cell_type": "markdown",
   "metadata": {},
   "source": [
    "Berdasarkan hasil diatas, hasil pada GRU lebih baik daripada LSTM (RMSE)"
   ]
  },
  {
   "cell_type": "code",
   "execution_count": null,
   "metadata": {},
   "outputs": [],
   "source": []
  }
 ],
 "metadata": {
  "kernelspec": {
   "display_name": "Python 3",
   "language": "python",
   "name": "python3"
  },
  "language_info": {
   "codemirror_mode": {
    "name": "ipython",
    "version": 3
   },
   "file_extension": ".py",
   "mimetype": "text/x-python",
   "name": "python",
   "nbconvert_exporter": "python",
   "pygments_lexer": "ipython3",
   "version": "3.7.9"
  }
 },
 "nbformat": 4,
 "nbformat_minor": 2
}
